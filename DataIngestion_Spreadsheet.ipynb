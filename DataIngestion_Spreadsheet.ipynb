{
 "cells": [
  {
   "cell_type": "code",
   "execution_count": 4,
   "id": "cda3758b",
   "metadata": {},
   "outputs": [
    {
     "name": "stdout",
     "output_type": "stream",
     "text": [
      "Index(['ExpectedEarning', 'JobApplyWhen', 'JobPref', 'JobRelocateYesNo',\n",
      "       'JobRoleInterest', 'JobWherePref'],\n",
      "      dtype='object')\n"
     ]
    }
   ],
   "source": [
    "##############################################\n",
    "### You can't analyze what you can't access ##\n",
    "### import excel files      ##################\n",
    "##############################################\n",
    "import pandas as pd\n",
    "import matplotlib.pyplot as plt\n",
    "\n",
    "# Read spreadsheet and assign it to survey_responses\n",
    "survey_responses = pd.read_excel(\"fcc_survey.xlsx\")\n",
    "# View the head of the dataframe\n",
    "#print(survey_responses.head())\n",
    "\n",
    "\n",
    "# Create string of lettered columns to load\n",
    "col_string = \"AD, AW:BA\"\n",
    "# Load data with skiprows and usecols set\n",
    "survey_responses = pd.read_excel(\"fcc-new-coder-survey.xlsx\", \n",
    "                        skiprows=2, \n",
    "                        usecols=col_string)\n",
    "# View the names of the columns selected\n",
    "print(survey_responses.columns)\n",
    "#If the table of data from a sheet has multiple tables on it, \n",
    "#use skiprows, nrows, and usecols together to delineate which cells of data to read in.\n"
   ]
  },
  {
   "cell_type": "code",
   "execution_count": null,
   "id": "0e421055",
   "metadata": {},
   "outputs": [],
   "source": [
    "##############################################\n",
    "### Select a single sheet                  ###\n",
    "##############################################\n",
    "\n",
    "# Create df from second worksheet by referencing its position\n",
    "responses_2017 = pd.read_excel(\"fcc_survey.xlsx\",\n",
    "                               sheet_name=1)\n",
    "\n",
    "# Graph where people would like to get a developer job\n",
    "job_prefs = responses_2017.groupby(\"JobPref\").JobPref.count()\n",
    "job_prefs.plot.barh()\n",
    "plt.show()\n"
   ]
  }
 ],
 "metadata": {
  "kernelspec": {
   "display_name": "Python 3 (ipykernel)",
   "language": "python",
   "name": "python3"
  },
  "language_info": {
   "codemirror_mode": {
    "name": "ipython",
    "version": 3
   },
   "file_extension": ".py",
   "mimetype": "text/x-python",
   "name": "python",
   "nbconvert_exporter": "python",
   "pygments_lexer": "ipython3",
   "version": "3.10.9"
  }
 },
 "nbformat": 4,
 "nbformat_minor": 5
}
