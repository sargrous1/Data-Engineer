{
 "cells": [
  {
   "cell_type": "code",
   "execution_count": 12,
   "id": "639dda5d",
   "metadata": {},
   "outputs": [
    {
     "name": "stdout",
     "output_type": "stream",
     "text": [
      "['boro_census', 'hpd311calls', 'weather']\n"
     ]
    }
   ],
   "source": [
    "###################################\n",
    "## Connect to a SQLite database ###\n",
    "###################################\n",
    "#!pip install sqlalchemy\n",
    "# Import sqlalchemy's create_engine() function\n",
    "from sqlalchemy import create_engine\n",
    "from sqlalchemy import inspect\n",
    "\n",
    "# Create the database engine\n",
    "engine = create_engine(\"sqlite:///data.db\")\n",
    "#print(engine.table_names()) error SQLAlchemy 2.0\n",
    "insp = inspect(engine)\n",
    "\n",
    "# View the tables in the database\n",
    "print(insp.get_table_names())\n",
    "\n"
   ]
  },
  {
   "cell_type": "code",
   "execution_count": 28,
   "id": "3c7f5db4",
   "metadata": {},
   "outputs": [
    {
     "name": "stdout",
     "output_type": "stream",
     "text": [
      "  unique_key created_date agency  complaint_type incident_zip  \\\n",
      "0   38070822   01/01/2018    HPD  HEAT/HOT WATER        10468   \n",
      "1   38065299   01/01/2018    HPD        PLUMBING        10003   \n",
      "2   38066653   01/01/2018    HPD  HEAT/HOT WATER        10452   \n",
      "3   38070264   01/01/2018    HPD  HEAT/HOT WATER        10032   \n",
      "4   38072466   01/01/2018    HPD  HEAT/HOT WATER        11213   \n",
      "\n",
      "       incident_address community_board    borough  \n",
      "0    2786 JEROME AVENUE        07 BRONX      BRONX  \n",
      "1  323 EAST   12 STREET    03 MANHATTAN  MANHATTAN  \n",
      "2  1235 GRAND CONCOURSE        04 BRONX      BRONX  \n",
      "3  656 WEST  171 STREET    12 MANHATTAN  MANHATTAN  \n",
      "4       1030 PARK PLACE     08 BROOKLYN   BROOKLYN  \n",
      "       station                         name  latitude  longitude  elevation  \\\n",
      "0  USW00094728  NY CITY CENTRAL PARK, NY US  40.77898  -73.96925       42.7   \n",
      "1  USW00094728  NY CITY CENTRAL PARK, NY US  40.77898  -73.96925       42.7   \n",
      "2  USW00094728  NY CITY CENTRAL PARK, NY US  40.77898  -73.96925       42.7   \n",
      "3  USW00094728  NY CITY CENTRAL PARK, NY US  40.77898  -73.96925       42.7   \n",
      "4  USW00094728  NY CITY CENTRAL PARK, NY US  40.77898  -73.96925       42.7   \n",
      "\n",
      "         date     month  awnd  prcp  snow tavg  tmax  tmin  \n",
      "0  12/01/2017  December  5.37  0.00   0.0         52    42  \n",
      "1  12/02/2017  December  3.13  0.00   0.0         48    39  \n",
      "2  12/03/2017  December  2.01  0.00   0.0         48    42  \n",
      "3  12/04/2017  December  3.58  0.00   0.0         51    40  \n",
      "4  12/05/2017  December  6.71  0.75   0.0         61    50  \n"
     ]
    }
   ],
   "source": [
    "################################\n",
    "## Load entire tables        ###\n",
    "################################\n",
    "# Load libraries\n",
    "import pandas as pd\n",
    "from sqlalchemy import create_engine, text\n",
    "\n",
    "# Create the database engine\n",
    "engine = create_engine('sqlite:///data.db')\n",
    "    \n",
    "# Load hpd311calls without any SQL\n",
    "#hpd_calls = pd.read_sql('hpd311calls', engine)\n",
    "#error because the latest version of SQLAlchemy 2.0 has removed Engine.execute\n",
    "\n",
    "#For pandas read_sql_query, to avoid an error pass a connection (not the engine) \n",
    "#and use the text function to convert the query.\n",
    "conn = engine.connect()\n",
    "hpd_calls = pd.read_sql_table('hpd311calls', conn)\n",
    "print(hpd_calls.head())\n",
    "#query = text('SELECT * FROM table')\n",
    "#df = pd.read_sql_query(query, conn)\n",
    "\n",
    "# Create a SQL query to load the entire weather table\n",
    "#query = \"\"\"\n",
    "#SELECT * \n",
    "#  FROM weather;\n",
    "#\"\"\"\n",
    "# Load weather with the SQL query\n",
    "#weather = pd.read_sql(query, engine) error SQLAlchemy 2.0\n",
    "\n",
    "query = text('SELECT * FROM weather')\n",
    "weather = pd.read_sql_query(query, conn)\n",
    "\n",
    "# View the first few rows of data\n",
    "print(weather.head())\n"
   ]
  },
  {
   "cell_type": "code",
   "execution_count": 32,
   "id": "675cef2c",
   "metadata": {},
   "outputs": [
    {
     "name": "stdout",
     "output_type": "stream",
     "text": [
      "           date  tmax  tmin\n",
      "0    12/01/2017    52    42\n",
      "1    12/02/2017    48    39\n",
      "2    12/03/2017    48    42\n",
      "3    12/04/2017    51    40\n",
      "4    12/05/2017    61    50\n",
      "..          ...   ...   ...\n",
      "116  03/27/2018    47    34\n",
      "117  03/28/2018    52    38\n",
      "118  03/29/2018    53    49\n",
      "119  03/30/2018    62    44\n",
      "120  03/31/2018    58    39\n",
      "\n",
      "[121 rows x 3 columns]\n"
     ]
    }
   ],
   "source": [
    "##################################\n",
    "## Selecting columns with SQL ###\n",
    "#################################\n",
    "# Datasets can contain columns that are not required for an analysis\n",
    "\n",
    "import pandas as pd\n",
    "from sqlalchemy import create_engine, text\n",
    "# Create database engine for data.db\n",
    "engine = create_engine(\"sqlite:///data.db\")\n",
    "\n",
    "# Write query to get date, tmax, and tmin from weather\n",
    "query = \"\"\"\n",
    "SELECT date, \n",
    "       tmax, \n",
    "       tmin\n",
    "  FROM weather;\n",
    "\"\"\"\n",
    "\n",
    "# Make a dataframe by passing query and engine to read_sql()\n",
    "#temperatures = pd.read_sql(query,engine) | error SQLAlchemy 2.0\n",
    "conn = engine.connect()\n",
    "temperatures = pd.read_sql_query(text(query), conn)\n",
    "\n",
    "# View the resulting dataframe\n",
    "print(temperatures)\n",
    "\n",
    "#load all the columns and then use pandas to drop unwanted columns.\n"
   ]
  },
  {
   "cell_type": "code",
   "execution_count": 37,
   "id": "b026e356",
   "metadata": {},
   "outputs": [
    {
     "data": {
      "image/png": "[encoded data removed]",
      "text/plain": [
       "<Figure size 640x480 with 1 Axes>"
      ]
     },
     "metadata": {},
     "output_type": "display_data"
    }
   ],
   "source": [
    "##################################\n",
    "## Selecting rows with SQL #####\n",
    "#################################\n",
    "import matplotlib.pyplot as plt\n",
    "# Create query to get hpd311calls records about safety\n",
    "query = \"\"\"\n",
    "SELECT *\n",
    "FROM hpd311calls\n",
    "WHERE complaint_type='SAFETY';\n",
    "\"\"\"\n",
    "\n",
    "# Query the database and assign result to safety_calls\n",
    "#safety_calls = pd.read_sql(query,engine) | error SQLAlchemy 2.0\n",
    "conn = engine.connect()\n",
    "safety_calls = pd.read_sql_query(text(query), conn)\n",
    "\n",
    "# Graph the number of safety calls by borough\n",
    "call_counts = safety_calls.groupby('borough').unique_key.count()\n",
    "call_counts.plot.barh()\n",
    "plt.show()\n",
    "\n",
    "#Filtering data before importing allows focus on specific records, \n",
    "#used as a data cleaning technique it helps exclude records with known errors or missing values.\n"
   ]
  },
  {
   "cell_type": "code",
   "execution_count": 38,
   "id": "1b109f89",
   "metadata": {},
   "outputs": [
    {
     "name": "stdout",
     "output_type": "stream",
     "text": [
      "           latitude     longitude     elevation       awnd      prcp  \\\n",
      "count  2.500000e+01  2.500000e+01  2.500000e+01  25.000000  25.00000   \n",
      "mean   4.077898e+01 -7.396925e+01  4.270000e+01   7.739600   0.17600   \n",
      "std    2.175584e-14  4.351168e-14  1.450389e-14   2.621778   0.36947   \n",
      "min    4.077898e+01 -7.396925e+01  4.270000e+01   3.130000   0.00000   \n",
      "25%    4.077898e+01 -7.396925e+01  4.270000e+01   5.820000   0.00000   \n",
      "50%    4.077898e+01 -7.396925e+01  4.270000e+01   7.830000   0.00000   \n",
      "75%    4.077898e+01 -7.396925e+01  4.270000e+01   9.170000   0.09000   \n",
      "max    4.077898e+01 -7.396925e+01  4.270000e+01  12.970000   1.41000   \n",
      "\n",
      "            snow       tmax       tmin  \n",
      "count  25.000000  25.000000  25.000000  \n",
      "mean    1.332000  27.320000  17.160000  \n",
      "std     2.685256   7.122266   7.673982  \n",
      "min     0.000000  13.000000   5.000000  \n",
      "25%     0.000000  22.000000  11.000000  \n",
      "50%     0.000000  28.000000  17.000000  \n",
      "75%     1.200000  31.000000  20.000000  \n",
      "max     9.800000  40.000000  33.000000  \n"
     ]
    }
   ],
   "source": [
    "#########################################\n",
    "## Filtering on multiple conditions #####\n",
    "#########################################\n",
    "\n",
    "# Create query for records with max temps <= 32 or snow >= 1\n",
    "query = \"\"\"\n",
    "SELECT *\n",
    "  FROM weather\n",
    "  WHERE tmax <= 32\n",
    "  OR snow >= 1;\n",
    "\"\"\"\n",
    "\n",
    "# Query database and assign result to wintry_days\n",
    "#wintry_days = pd.read_sql(query, engine) | error SQLAlchemy 2.0\n",
    "conn = engine.connect()\n",
    "wintry_days = pd.read_sql_query(text(query), conn)\n",
    "\n",
    "# View summary stats about the temperatures\n",
    "print(wintry_days.describe())\n"
   ]
  },
  {
   "cell_type": "code",
   "execution_count": 39,
   "id": "cb988ed5",
   "metadata": {},
   "outputs": [
    {
     "name": "stdout",
     "output_type": "stream",
     "text": [
      "          borough    complaint_type\n",
      "0           BRONX    HEAT/HOT WATER\n",
      "1       MANHATTAN          PLUMBING\n",
      "2       MANHATTAN    HEAT/HOT WATER\n",
      "3        BROOKLYN    HEAT/HOT WATER\n",
      "4          QUEENS    HEAT/HOT WATER\n",
      "..            ...               ...\n",
      "60      MANHATTAN  OUTSIDE BUILDING\n",
      "61      MANHATTAN          ELEVATOR\n",
      "62       BROOKLYN  OUTSIDE BUILDING\n",
      "63  STATEN ISLAND            SAFETY\n",
      "64  STATEN ISLAND  OUTSIDE BUILDING\n",
      "\n",
      "[65 rows x 2 columns]\n"
     ]
    }
   ],
   "source": [
    "#########################################\n",
    "## Getting distinct values          #####\n",
    "#########################################\n",
    "#duplicate values can be removed after loading data into a dataframe, \n",
    "#it can also be done at import with SQL's DISTINCT keyword.\n",
    "\n",
    "# Create query for unique combinations of borough and complaint_type\n",
    "query = \"\"\"\n",
    "SELECT DISTINCT borough, \n",
    "       complaint_type\n",
    "  FROM hpd311calls;\n",
    "\"\"\"\n",
    "\n",
    "# Load results of query to a dataframe\n",
    "#issues_and_boros = pd.read_sql(query, engine) | error SQLAlchemy 2.0\n",
    "conn = engine.connect()\n",
    "issues_and_boros = pd.read_sql_query(text(query), conn)\n",
    "\n",
    "# Check assumption about issues and boroughs\n",
    "print(issues_and_boros)\n",
    "\n",
    "#easy way to find data quality issues like misspelled values \n",
    "\n",
    "\n"
   ]
  },
  {
   "cell_type": "code",
   "execution_count": 40,
   "id": "8420415f",
   "metadata": {},
   "outputs": [
    {
     "data": {
      "image/png": "[encoded data removed]",
      "text/plain": [
       "<Figure size 640x480 with 1 Axes>"
      ]
     },
     "metadata": {},
     "output_type": "display_data"
    }
   ],
   "source": [
    "#########################################\n",
    "## Counting in groups               #####\n",
    "#########################################\n",
    "#In previous exercise (Selecting rows with SQL), \n",
    "#we pulled data from tables, then summarized the resulting dataframes in pandas to create graphs. \n",
    "#By using COUNT and GROUP BY in a SQL query, we can pull those summary figures from the database directly.\n",
    "\n",
    "# Create query to get call counts by complaint_type\n",
    "query = \"\"\"\n",
    "SELECT complaint_type, \n",
    "     COUNT(*)\n",
    "  FROM hpd311calls\n",
    "  GROUP BY complaint_type;\n",
    "\"\"\"\n",
    "\n",
    "# Create dataframe of call counts by issue\n",
    "#calls_by_issue = pd.read_sql(query, engine) | error SQLAlchemy 2.0\n",
    "conn = engine.connect()\n",
    "calls_by_issue = pd.read_sql_query(text(query), conn)\n",
    "\n",
    "# Graph the number of calls for each housing issue\n",
    "calls_by_issue.plot.barh(x=\"complaint_type\") #horizontal bar plot\n",
    "plt.show()\n",
    "\n"
   ]
  },
  {
   "cell_type": "code",
   "execution_count": 43,
   "id": "64901eaa",
   "metadata": {},
   "outputs": [
    {
     "name": "stdout",
     "output_type": "stream",
     "text": [
      "      month  MAX(tmax)  MIN(tmin)  SUM(prcp)\n",
      "0  December         61          9       2.21\n",
      "1  February         78         16       5.83\n",
      "2   January         61          5       2.18\n",
      "3     March         62         27       5.17\n"
     ]
    }
   ],
   "source": [
    "#########################################\n",
    "## Working with aggregate functions #####\n",
    "#########################################\n",
    "#If a table contains data with higher granularity than is needed for an analysis, \n",
    "#it can make sense to summarize the data with SQL aggregate functions before importing it. \n",
    "#For example, data of flood event counts by month but precipitation data by day, \n",
    "#you may decide to SUM precipitation by month.\n",
    "\n",
    "# Create a query to get month and max tmax by month\n",
    "query = \"\"\"\n",
    "SELECT month, \n",
    "        MAX(tmax), \n",
    "        MIN(tmin),\n",
    "        SUM(prcp)\n",
    "  FROM weather \n",
    " GROUP BY month;\n",
    "\"\"\"\n",
    "\n",
    "# Get dataframe of monthly weather stats\n",
    "#weather_by_month = pd.read_sql(query, engine) | error SQLAlchemy 2.0\n",
    "conn = engine.connect()\n",
    "weather_by_month = pd.read_sql_query(text(query), conn)\n",
    "\n",
    "# View weather stats by month\n",
    "print(weather_by_month)\n",
    "\n",
    "#Aggregate functions can be a useful way to summarize large datasets\n"
   ]
  },
  {
   "cell_type": "code",
   "execution_count": 45,
   "id": "c80610f0",
   "metadata": {},
   "outputs": [
    {
     "name": "stdout",
     "output_type": "stream",
     "text": [
      "  unique_key created_date agency  complaint_type incident_zip  \\\n",
      "0   38070822   01/01/2018    HPD  HEAT/HOT WATER        10468   \n",
      "1   38065299   01/01/2018    HPD        PLUMBING        10003   \n",
      "2   38066653   01/01/2018    HPD  HEAT/HOT WATER        10452   \n",
      "3   38070264   01/01/2018    HPD  HEAT/HOT WATER        10032   \n",
      "4   38072466   01/01/2018    HPD  HEAT/HOT WATER        11213   \n",
      "\n",
      "       incident_address community_board    borough      station  \\\n",
      "0    2786 JEROME AVENUE        07 BRONX      BRONX  USW00094728   \n",
      "1  323 EAST   12 STREET    03 MANHATTAN  MANHATTAN  USW00094728   \n",
      "2  1235 GRAND CONCOURSE        04 BRONX      BRONX  USW00094728   \n",
      "3  656 WEST  171 STREET    12 MANHATTAN  MANHATTAN  USW00094728   \n",
      "4       1030 PARK PLACE     08 BROOKLYN   BROOKLYN  USW00094728   \n",
      "\n",
      "                          name  ...  longitude  elevation        date  \\\n",
      "0  NY CITY CENTRAL PARK, NY US  ...  -73.96925       42.7  01/01/2018   \n",
      "1  NY CITY CENTRAL PARK, NY US  ...  -73.96925       42.7  01/01/2018   \n",
      "2  NY CITY CENTRAL PARK, NY US  ...  -73.96925       42.7  01/01/2018   \n",
      "3  NY CITY CENTRAL PARK, NY US  ...  -73.96925       42.7  01/01/2018   \n",
      "4  NY CITY CENTRAL PARK, NY US  ...  -73.96925       42.7  01/01/2018   \n",
      "\n",
      "     month  awnd  prcp  snow  tavg tmax  tmin  \n",
      "0  January  7.83   0.0   0.0         19     7  \n",
      "1  January  7.83   0.0   0.0         19     7  \n",
      "2  January  7.83   0.0   0.0         19     7  \n",
      "3  January  7.83   0.0   0.0         19     7  \n",
      "4  January  7.83   0.0   0.0         19     7  \n",
      "\n",
      "[5 rows x 21 columns]\n"
     ]
    }
   ],
   "source": [
    "#########################################\n",
    "## Working with aggregate functions #####\n",
    "#########################################\n",
    "#build pipelines combining tables using SQL JOIN, instead of having to combine data after importing it.\n",
    "\n",
    "# Query to join weather to call records by date columns\n",
    "query = \"\"\"\n",
    "SELECT * \n",
    "  FROM hpd311calls\n",
    "  JOIN weather \n",
    "  ON hpd311calls.created_date = weather.date;\n",
    "\"\"\"\n",
    "\n",
    "# Create dataframe of joined tables\n",
    "#calls_with_weather = pd.read_sql(query,engine)| error SQLAlchemy 2.0\n",
    "conn = engine.connect()\n",
    "calls_with_weather = pd.read_sql_query(text(query), conn)\n",
    "\n",
    "# View the dataframe to make sure all columns were joined\n",
    "print(calls_with_weather.head())\n"
   ]
  },
  {
   "cell_type": "code",
   "execution_count": 49,
   "id": "ef522a69",
   "metadata": {},
   "outputs": [
    {
     "name": "stdout",
     "output_type": "stream",
     "text": [
      "  unique_key created_date agency complaint_type incident_zip  \\\n",
      "0   38074305   01/01/2018    HPD     WATER LEAK        11212   \n",
      "1   38078748   01/01/2018    HPD     WATER LEAK        10458   \n",
      "2   38081097   01/01/2018    HPD     WATER LEAK        11221   \n",
      "3   38077874   01/01/2018    HPD     WATER LEAK        11418   \n",
      "4   38081110   01/01/2018    HPD     WATER LEAK        11420   \n",
      "\n",
      "          incident_address community_board   borough  prcp  \n",
      "0     1026 WILLMOHR STREET     17 BROOKLYN  BROOKLYN   0.0  \n",
      "1       2700 MARION AVENUE        07 BRONX     BRONX   0.0  \n",
      "2  192 MALCOLM X BOULEVARD     03 BROOKLYN  BROOKLYN   0.0  \n",
      "3    129-11 JAMAICA AVENUE       09 QUEENS    QUEENS   0.0  \n",
      "4        111-17 133 STREET       10 QUEENS    QUEENS   0.0  \n"
     ]
    }
   ],
   "source": [
    "#########################################\n",
    "## Joining and filtering            #####\n",
    "#########################################\n",
    "#you might not want all columns and rows that result from a JOIN\n",
    "\n",
    "# Query to get hpd311calls and precipitation values\n",
    "query = \"\"\"\n",
    "SELECT hpd311calls.*, weather.prcp\n",
    "  FROM hpd311calls\n",
    "  JOIN weather\n",
    "    ON hpd311calls.created_date = weather.date\n",
    "  WHERE hpd311calls.complaint_type = 'WATER LEAK';\"\"\"\n",
    "\n",
    "# Load query results into the leak_calls dataframe\n",
    "#leak_calls = pd.read_sql(query,engine)  error SQLAlchemy 2.0\n",
    "conn = engine.connect()\n",
    "leak_calls = pd.read_sql_query(text(query), conn)\n",
    "\n",
    "# View the dataframe\n",
    "print(leak_calls.head())\n",
    "\n",
    "#with very big tables, filter or aggregate the data first before attempting a join.\n"
   ]
  },
  {
   "cell_type": "code",
   "execution_count": 50,
   "id": "177eae54",
   "metadata": {},
   "outputs": [
    {
     "name": "stdout",
     "output_type": "stream",
     "text": [
      "  created_date  COUNT(*)  tmax  tmin\n",
      "0   01/01/2018      4597    19     7\n",
      "1   01/02/2018      4362    26    13\n",
      "2   01/03/2018      3045    30    16\n",
      "3   01/04/2018      3374    29    19\n",
      "4   01/05/2018      4333    19     9\n"
     ]
    }
   ],
   "source": [
    "##############################################\n",
    "## Joining, filtering, and aggregating   #####\n",
    "##############################################\n",
    "# Modify query to join tmax and tmin from weather by date\n",
    "\n",
    "query = \"\"\"\n",
    "SELECT hpd311calls.created_date, \n",
    "\t   COUNT(*), \n",
    "       weather.tmax,\n",
    "       weather.tmin\n",
    "  FROM hpd311calls \n",
    "       JOIN weather\n",
    "       ON hpd311calls.created_date = weather.date\n",
    " WHERE hpd311calls.complaint_type = 'HEAT/HOT WATER' \n",
    " GROUP BY hpd311calls.created_date;\n",
    " \"\"\"\n",
    "# Load query results into the leak_calls dataframe\n",
    "#leak_calls = pd.read_sql(query,engine)  error SQLAlchemy 2.0\n",
    "conn = engine.connect()\n",
    "df = pd.read_sql_query(text(query), conn)\n",
    "\n",
    "# View the dataframe\n",
    "print(df.head())\n",
    "\n",
    "#While SQL joins can only be used in databases, there are analagous pandas operations to combine datasets."
   ]
  }
 ],
 "metadata": {
  "kernelspec": {
   "display_name": "Python 3 (ipykernel)",
   "language": "python",
   "name": "python3"
  },
  "language_info": {
   "codemirror_mode": {
    "name": "ipython",
    "version": 3
   },
   "file_extension": ".py",
   "mimetype": "text/x-python",
   "name": "python",
   "nbconvert_exporter": "python",
   "pygments_lexer": "ipython3",
   "version": "3.10.9"
  }
 },
 "nbformat": 4,
 "nbformat_minor": 5
}
