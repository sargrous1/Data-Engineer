{
 "cells": [
  {
   "cell_type": "code",
   "execution_count": 7,
   "id": "6c63da4a",
   "metadata": {},
   "outputs": [
    {
     "data": {
      "image/png": "[encoded data removed]",
      "text/plain": [
       "<Figure size 640x480 with 1 Axes>"
      ]
     },
     "metadata": {},
     "output_type": "display_data"
    },
    {
     "name": "stdout",
     "output_type": "stream",
     "text": [
      "(1476, 147)\n"
     ]
    }
   ],
   "source": [
    "###########################################\n",
    "#You can't analyze what you can't access ##\n",
    "###########################################\n",
    "\n",
    "import pandas as pd\n",
    "import matplotlib.pyplot as plt\n",
    "\n",
    "#import flat files\n",
    "data = pd.read_csv(\"vt_tax_data_2016.csv\")\n",
    "\n",
    "# Plot the total number of tax returns by income group\n",
    "counts = data.groupby(\"agi_stub\").N1.sum()\n",
    "counts.plot.bar()\n",
    "plt.show()\n"
   ]
  },
  {
   "cell_type": "code",
   "execution_count": 9,
   "id": "dc78e696",
   "metadata": {},
   "outputs": [
    {
     "name": "stdout",
     "output_type": "stream",
     "text": [
      "(1476, 147)\n",
      "          zipcode   mars1  MARS2  NUMDEP\n",
      "agi_stub                                \n",
      "1         1439444  170320  28480   52490\n",
      "2         1439444  104000  37690   64660\n",
      "3         1439444   39160  45390   47330\n",
      "4         1439444   11670  44410   37760\n",
      "5         1439444    7820  67750   60730\n",
      "6         1439444    1210  16340   16300\n"
     ]
    }
   ],
   "source": [
    "####################################\n",
    "#####Import a subset of columns ####\n",
    "####################################\n",
    "print(data.shape)\n",
    "#Analyses don't need all these columns\n",
    "#There is a saying that rows are cheap, but columns are expensive.\n",
    "\n",
    "# Create list of columns to use\n",
    "cols = ['zipcode', 'agi_stub', 'mars1', 'MARS2', 'NUMDEP']\n",
    "\n",
    "# Create dataframe from csv using only selected columns\n",
    "data = pd.read_csv(\"vt_tax_data_2016.csv\", usecols=cols)\n",
    "\n",
    "# View counts of dependents and tax returns by income level\n",
    "print(data.groupby(\"agi_stub\").sum())"
   ]
  },
  {
   "cell_type": "code",
   "execution_count": 11,
   "id": "d97a0e44",
   "metadata": {},
   "outputs": [
    {
     "name": "stdout",
     "output_type": "stream",
     "text": [
      "(500, 147)\n",
      "   STATEFIPS STATE  zipcode  agi_stub      N1  mars1  MARS2  MARS4   PREP  \\\n",
      "0         50    VT        0         1  111580  85090  14170  10740  45360   \n",
      "1         50    VT        0         2   82760  51960  18820  11310  35600   \n",
      "2         50    VT        0         3   46270  19540  22650   3620  24140   \n",
      "3         50    VT        0         4   30070   5830  22190    960  16060   \n",
      "4         50    VT        0         5   39530   3900  33800    590  22500   \n",
      "\n",
      "       N2  ...  N10300  A10300  N85530  A85530  N85300  A85300  N11901  \\\n",
      "0  130630  ...   53660   50699       0       0       0       0   10820   \n",
      "1  132950  ...   74340  221146       0       0       0       0   12820   \n",
      "2   91870  ...   44860  266097       0       0       0       0   10810   \n",
      "3   71610  ...   29580  264678       0       0       0       0    7320   \n",
      "4  103710  ...   39170  731963      40      24       0       0   12500   \n",
      "\n",
      "   A11901  N11902  A11902  \n",
      "0    9734   88260  138337  \n",
      "1   20029   68760  151729  \n",
      "2   24499   34600   90583  \n",
      "3   21573   21300   67045  \n",
      "4   67761   23320  103034  \n",
      "\n",
      "[5 rows x 147 columns]\n",
      "   STATEFIPS STATE  zipcode  agi_stub   N1  mars1  MARS2  MARS4  PREP   N2  \\\n",
      "0         50    VT     5356         2  180    120     40      0    90  250   \n",
      "1         50    VT     5356         3   80     50     40      0    40  150   \n",
      "2         50    VT     5356         4   50      0     40      0    40  110   \n",
      "3         50    VT     5356         5   80     20     50      0    60  170   \n",
      "4         50    VT     5356         6    0      0      0      0     0    0   \n",
      "\n",
      "   ...  N10300  A10300  N85530  A85530  N85300  A85300  N11901  A11901  \\\n",
      "0  ...     170     497       0       0       0       0      50      76   \n",
      "1  ...      80     460       0       0       0       0      40     142   \n",
      "2  ...      50     471       0       0       0       0       0       0   \n",
      "3  ...      80    2229       0       0       0       0      30     531   \n",
      "4  ...       0       0       0       0       0       0       0       0   \n",
      "\n",
      "   N11902  A11902  \n",
      "0     130     212  \n",
      "1      50     148  \n",
      "2      30      87  \n",
      "3      30     246  \n",
      "4       0       0  \n",
      "\n",
      "[5 rows x 147 columns]\n"
     ]
    }
   ],
   "source": [
    "####################################\n",
    "####Import a file in chunks #######\n",
    "####################################\n",
    "# When working with large files, it can be easier to load and process the data in pieces.\n",
    "\n",
    "vt_data_first500 = pd.read_csv(\"vt_tax_data_2016.csv\", \n",
    "                       \t\t  nrows=500)\n",
    "print(vt_data_first500.shape)\n",
    "# Create dataframe of next 500 rows with labeled columns\n",
    "vt_data_next500 = pd.read_csv(\"vt_tax_data_2016.csv\", \n",
    "                       \t\t  nrows=500,\n",
    "                       \t\t  skiprows=500,\n",
    "                       \t\t  header=None,\n",
    "                       \t\t  names=list(vt_data_first500))\n",
    "\n",
    "# View the Vermont dataframes to confirm they're different\n",
    "print(vt_data_first500.head())\n",
    "print(vt_data_next500.head())"
   ]
  },
  {
   "cell_type": "code",
   "execution_count": 14,
   "id": "b089e3fb",
   "metadata": {},
   "outputs": [
    {
     "name": "stdout",
     "output_type": "stream",
     "text": [
      "STATEFIPS     int64\n",
      "STATE        object\n",
      "zipcode       int64\n",
      "agi_stub      int64\n",
      "N1            int64\n",
      "              ...  \n",
      "A85300        int64\n",
      "N11901        int64\n",
      "A11901        int64\n",
      "N11902        int64\n",
      "A11902        int64\n",
      "Length: 147, dtype: object\n",
      "STATEFIPS       int64\n",
      "STATE          object\n",
      "zipcode        object\n",
      "agi_stub     category\n",
      "N1              int64\n",
      "dtype: object\n"
     ]
    }
   ],
   "source": [
    "####################################\n",
    "####   Specify data types    #######\n",
    "####################################\n",
    "# Load csv with no additional arguments\n",
    "data = pd.read_csv(\"vt_tax_data_2016.csv\")\n",
    "\n",
    "# Print the data types\n",
    "print(data.dtypes)\n",
    "#agi_stub column contains numbers that correspond to income categories, \n",
    "#zipcode has 5-digit values that should be strings\n",
    "\n",
    "# Create dict specifying data types for agi_stub and zipcode\n",
    "data_types = {\"agi_stub\": \"category\",\n",
    "\t\t\t  \"zipcode\":str}\n",
    "# Load csv using dtype to set correct data types\n",
    "data = pd.read_csv(\"vt_tax_data_2016.csv\", dtype=data_types)\n",
    "# Print data types of resulting frame\n",
    "print(data.dtypes.head())\n",
    "\n",
    "#Setting data types at import requires becoming familiar with the data first, \n",
    "#but it can save effort later on. \n",
    "#A common workflow is to load the data and explore it, \n",
    "#then write code that sets data types at import to share with colleagues or other audiences.\n"
   ]
  },
  {
   "cell_type": "code",
   "execution_count": null,
   "id": "0b307947",
   "metadata": {},
   "outputs": [],
   "source": [
    "####################################\n",
    "####  Set custom NA values   #######\n",
    "####################################\n",
    "#Part of data exploration and cleaning consists of checking for missing or NA values \n",
    "#and deciding how to account for them.\n",
    "\n",
    "# Create dict specifying that 0s in zipcode are NA values\n",
    "null_values = {\"zipcode\":0}\n",
    "\n",
    "# Load csv using na_values keyword argument\n",
    "data = pd.read_csv(\"vt_tax_data_2016.csv\", \n",
    "                   na_values=null_values)\n",
    "\n",
    "# View rows with NA ZIP codes\n",
    "print(data[data.zipcode.isna()])\n",
    "\n",
    "#use NA-specific functions to do things like count missing values or drop records with missing values."
   ]
  },
  {
   "cell_type": "code",
   "execution_count": 27,
   "id": "57847f8c",
   "metadata": {},
   "outputs": [
    {
     "name": "stdout",
     "output_type": "stream",
     "text": [
      "         STATEFIPS   STATE zipcode  agi_stub     N1  mars1   MARS2   MARS4  \\\n",
      "50 VT 0          1  111580  tototo     85090  14170  10740   45360  130630   \n",
      "      0          2   82760   51960     18820  11310  35600  132950   32310   \n",
      "      0          3   46270   19540     22650   3620  24140   91870   23610   \n",
      "      0          4   30070    5830     22190    960  16060   71610   18860   \n",
      "      0          5   39530    3900     33800    590  22500  103710   30330   \n",
      "\n",
      "          PREP    N2  ...  A06500  N10300  A10300  N85530  A85530  N85300  \\\n",
      "50 VT 0  26200  5900  ...   50699       0       0       0       0   10820   \n",
      "      0   1670   840  ...       0       0       0       0   12820   20029   \n",
      "      0    170     0  ...       0       0       0       0   10810   24499   \n",
      "      0      0     0  ...       0       0       0       0    7320   21573   \n",
      "      0      0     0  ...      40      24       0       0   12500   67761   \n",
      "\n",
      "         A85300  N11901    A11901    N11902  \n",
      "50 VT 0    9734   88260  totototo  titititi  \n",
      "      0   68760  151729       NaN       NaN  \n",
      "      0   34600   90583       NaN       NaN  \n",
      "      0   21300   67045       NaN       NaN  \n",
      "      0   23320  103034       NaN       NaN  \n",
      "\n",
      "[5 rows x 146 columns]\n"
     ]
    },
    {
     "name": "stderr",
     "output_type": "stream",
     "text": [
      "/var/folders/71/cw4619mx1cg51qdyd4685r3r0000gp/T/ipykernel_43442/2051313475.py:8: FutureWarning: The error_bad_lines argument has been deprecated and will be removed in a future version. Use on_bad_lines in the future.\n",
      "\n",
      "\n",
      "  data = pd.read_csv(\"vt_tax_data_2016_corrupt.csv\",\n",
      "/var/folders/71/cw4619mx1cg51qdyd4685r3r0000gp/T/ipykernel_43442/2051313475.py:8: FutureWarning: The warn_bad_lines argument has been deprecated and will be removed in a future version. Use on_bad_lines in the future.\n",
      "\n",
      "\n",
      "  data = pd.read_csv(\"vt_tax_data_2016_corrupt.csv\",\n"
     ]
    }
   ],
   "source": [
    "####################################\n",
    "####  Set custom NA values   #######\n",
    "####################################\n",
    "#files with bad data, like records with more values than columns. \n",
    "#By default, trying to import such files triggers a specific error, pandas.errors.ParserError.\n",
    "try:\n",
    "  # Set warn_bad_lines to issue warnings about bad records\n",
    "  data = pd.read_csv(\"vt_tax_data_2016_corrupt.csv\", \n",
    "                     error_bad_lines=False, \n",
    "                     warn_bad_lines=True)\n",
    "  # View first 5 records\n",
    "  print(data.head())\n",
    "except pd.errors.ParserError:\n",
    "    print(\"Your data contained rows that could not be parsed.\")\n"
   ]
  }
 ],
 "metadata": {
  "kernelspec": {
   "display_name": "Python 3 (ipykernel)",
   "language": "python",
   "name": "python3"
  },
  "language_info": {
   "codemirror_mode": {
    "name": "ipython",
    "version": 3
   },
   "file_extension": ".py",
   "mimetype": "text/x-python",
   "name": "python",
   "nbconvert_exporter": "python",
   "pygments_lexer": "ipython3",
   "version": "3.10.9"
  }
 },
 "nbformat": 4,
 "nbformat_minor": 5
}
